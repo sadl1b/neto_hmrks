{
 "cells": [
  {
   "cell_type": "markdown",
   "id": "2e1ce42e",
   "metadata": {},
   "source": [
    "# Задание 1"
   ]
  },
  {
   "cell_type": "code",
   "execution_count": 150,
   "id": "b0719a0a",
   "metadata": {},
   "outputs": [],
   "source": [
    "def max_value_name():\n",
    "    import requests\n",
    "    url = 'https://www.cbr-xml-daily.ru/daily_json.js'\n",
    "    data_ = requests.get(url).json()['Valute']\n",
    "    answer = max(data_, key = lambda line: data_[line]['Value'])\n",
    "    return answer\n"
   ]
  },
  {
   "cell_type": "markdown",
   "id": "3c9d372f",
   "metadata": {},
   "source": [
    "# Задание 2\n",
    "Я не придумал как можно масштабировать, чтобы каждый метод валют не переписывать, если как - то можно, то хотел бы узнать"
   ]
  },
  {
   "cell_type": "code",
   "execution_count": 83,
   "id": "1e69b7e0",
   "metadata": {},
   "outputs": [],
   "source": [
    "from libs.exchange import Rate\n",
    "\n",
    "class InheritedRate(Rate):\n",
    "    def __init__(self,format='value'):\n",
    "        super().__init__(format)\n",
    "        self.diff = False\n",
    "        \n",
    "    def make_format(self, currency):\n",
    "        \"\"\"\n",
    "        Возвращает информацию о валюте currency в двух вариантах:\n",
    "        - полная информация о валюте при self.format = 'full':\n",
    "        Rate('full').make_format('EUR')\n",
    "        {\n",
    "            'CharCode': 'EUR',\n",
    "            'ID': 'R01239',\n",
    "            'Name': 'Евро',\n",
    "            'Nominal': 1,\n",
    "            'NumCode': '978',\n",
    "            'Previous': 79.6765,\n",
    "            'Value': 79.4966\n",
    "        }\n",
    "        \n",
    "        Rate('value').make_format('EUR')\n",
    "        79.4966\n",
    "        \"\"\"\n",
    "        response = self.exchange_rates()\n",
    "        \n",
    "        if currency in response:\n",
    "            \n",
    "            if self.diff is True and self.format =='value':\n",
    "                return response[currency]['Previous']\n",
    "            \n",
    "            if self.format == 'full':\n",
    "                return response[currency]\n",
    "            \n",
    "            if self.format == 'value':\n",
    "                return response[currency]['Value']\n",
    "            \n",
    "\n",
    "        \n",
    "        return 'Error'\n",
    "    \n",
    "    def eur(self,diff=False):\n",
    "        \"\"\"Возвращает курс евро на сегодня в формате self.format\n",
    "           diff=True возвращает разницу currency с предыдущим значением\"\"\"\n",
    "        self.diff = diff\n",
    "        return self.make_format('EUR')\n",
    "    \n",
    "    def usd(self, diff=False):\n",
    "        \"\"\"Возвращает курс доллара на сегодня в формате self.format\n",
    "           diff=True возвращает разницу currency с предыдущим значением\"\"\"\n",
    "        self.diff = diff\n",
    "        return self.make_format('USD')\n",
    "\n",
    "    def AZN(self, diff=False):\n",
    "        \"\"\"Возвращает курс азербайджанского маната на сегодня в формате self.format\n",
    "           diff=True возвращает разницу currency с предыдущим значением\"\"\"\n",
    "        self.diff = diff\n",
    "        return self.make_format('AZN')"
   ]
  },
  {
   "cell_type": "markdown",
   "id": "0a3dbce1",
   "metadata": {},
   "source": [
    "# Задание 3\n"
   ]
  },
  {
   "cell_type": "code",
   "execution_count": 1,
   "id": "5fd71fd0",
   "metadata": {},
   "outputs": [],
   "source": [
    "from libs.employee import Employee"
   ]
  },
  {
   "cell_type": "code",
   "execution_count": 142,
   "id": "207727ff",
   "metadata": {},
   "outputs": [],
   "source": [
    "class Designer(Employee):\n",
    "    def __init__(self, name, seniority):\n",
    "        super().__init__(name, seniority)\n",
    "        self.premium = 2\n",
    "        self.seniority += self.premium*2\n",
    "        \n",
    "# елси добавить такой метод нужно проверку check переделывать, решил что не буду\n",
    "\n",
    "#    def premium_up(self):\n",
    "#     \"\"\"Добавляет информацию о получении международной премии\"\"\"\n",
    "#     self.premium += 1\n",
    "#     self.seniority += 2\n",
    "        \n",
    "    def check_if_it_is_time_for_upgrade(self):\n",
    "        # для каждой аккредитации увеличиваем счетчик на 1\n",
    "        # пока считаем, что все разработчики проходят аккредитацию\n",
    "        self.seniority += 1\n",
    "\n",
    "        \n",
    "        # условие повышения сотрудника из презентации\n",
    "        if self.seniority % 7 == 0: # если наделать premium_up'ов, то можно пропустить условие grade_up\n",
    "            self.grade_up()\n",
    "        \n",
    "        # публикация результатов\n",
    "        return self.publish_grade()    "
   ]
  }
 ],
 "metadata": {
  "kernelspec": {
   "display_name": "Python 3 (ipykernel)",
   "language": "python",
   "name": "python3"
  },
  "language_info": {
   "codemirror_mode": {
    "name": "ipython",
    "version": 3
   },
   "file_extension": ".py",
   "mimetype": "text/x-python",
   "name": "python",
   "nbconvert_exporter": "python",
   "pygments_lexer": "ipython3",
   "version": "3.11.5"
  }
 },
 "nbformat": 4,
 "nbformat_minor": 5
}
