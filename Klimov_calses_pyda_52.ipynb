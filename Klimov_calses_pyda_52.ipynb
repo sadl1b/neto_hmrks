{
 "cells": [
  {
   "cell_type": "code",
   "execution_count": 1,
   "id": "b0719a0a",
   "metadata": {},
   "outputs": [
    {
     "data": {
      "text/plain": [
       "'XDR'"
      ]
     },
     "execution_count": 1,
     "metadata": {},
     "output_type": "execute_result"
    }
   ],
   "source": [
    "def max_value_name():\n",
    "    import requests\n",
    "    url = 'https://www.cbr-xml-daily.ru/daily_json.js'\n",
    "    data_ = requests.get(url).json()['Valute']\n",
    "    answer = max(data_, key = lambda line: data_[line]['Value'])\n",
    "    return answer\n",
    "    \n",
    "max_value_name()"
   ]
  },
  {
   "cell_type": "code",
   "execution_count": 9,
   "id": "1e69b7e0",
   "metadata": {},
   "outputs": [],
   "source": [
    "from libs.exchange import Rate\n",
    "a = Rate()"
   ]
  }
 ],
 "metadata": {
  "kernelspec": {
   "display_name": "Python 3 (ipykernel)",
   "language": "python",
   "name": "python3"
  },
  "language_info": {
   "codemirror_mode": {
    "name": "ipython",
    "version": 3
   },
   "file_extension": ".py",
   "mimetype": "text/x-python",
   "name": "python",
   "nbconvert_exporter": "python",
   "pygments_lexer": "ipython3",
   "version": "3.11.5"
  }
 },
 "nbformat": 4,
 "nbformat_minor": 5
}
